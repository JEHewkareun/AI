{
 "cells": [
  {
   "attachments": {},
   "cell_type": "markdown",
   "id": "afd2c200",
   "metadata": {},
   "source": [
    "# <p style=\"padding:10px;background-color:#E7B10A;margin:0;color:#141E46;font-family:newtimeroman;font-size:150%;text-align:center;border-radius: 10px 20px;overflow:hidden;font-weight:500\">BACS3074 Artifical Intelligence Assignment</p>"
   ]
  },
  {
   "attachments": {},
   "cell_type": "markdown",
   "id": "86190aa5",
   "metadata": {},
   "source": [
    "# <p style=\"padding:10px;background-color:#EFB495;margin:0;color:#213555;font-family:newtimeroman;font-size:120%;text-align:center;border-radius: 15px 50px;overflow:hidden;font-weight:500\">Image Processing and Computer Vision (Digit and Letter Recognition Module)</p>\n",
    "\n",
    "<p style=\"text-align:center; \">\n",
    "<img src=\"https://online.stanford.edu/sites/default/files/styles/figure_default/public/2018-03/visual-computing.jpg?itok=KSTjzEcZ\" style='width: 500px; height: 350px;'>\n",
    "</p>\n",
    "\n",
    "# <p style=\"padding:10px;background-color:#BB2525;margin:0;color:#040D12;font-family:newtimeroman;font-size:120%;text-align:center;border-radius: 15px 50px;overflow:hidden;font-weight:500\">IMPORTANT!!! this program is using 3 SVM with different kernels, if the total train data is exceeding 10k , modeling and predicting might take more than an hour to finish</p>"
   ]
  },
  {
   "attachments": {},
   "cell_type": "markdown",
   "id": "49ea17fa",
   "metadata": {},
   "source": [
    "Each train data is in the 28x28 resolution format, so the computing demand is about, (numbers of training data) x 28 x 28 "
   ]
  },
  {
   "attachments": {},
   "cell_type": "markdown",
   "id": "e45f6c54",
   "metadata": {},
   "source": [
    "# <p style=\"padding:10px;background-color:#DFCCFB;margin:0;color:#213555;font-family:newtimeroman;font-size:100%;text-align:center;border-radius: 50px 60px;overflow:hidden;font-weight:500\">Dependencies</p>"
   ]
  },
  {
   "cell_type": "code",
   "execution_count": 4,
   "id": "695e6ecf",
   "metadata": {
    "scrolled": true
   },
   "outputs": [],
   "source": [
    "import gzip\n",
    "import matplotlib.pyplot as plt\n",
    "import numpy as np\n",
    "import pandas as pd\n",
    "import seaborn as sns\n",
    "import fitz  # PyMuPDF\n",
    "import io\n",
    "import cv2\n",
    "\n",
    "from sklearn import svm\n",
    "from sklearn.neighbors import KNeighborsClassifier\n",
    "from sklearn.ensemble import RandomForestClassifier\n",
    "from sklearn.metrics import accuracy_score, precision_score, recall_score, f1_score, classification_report, confusion_matrix\n",
    "from sklearn.model_selection import GridSearchCV\n",
    "from PIL import Image\n",
    "from matplotlib import pyplot as plt\n",
    "from docx import Document\n",
    "\n",
    "# pip install opencv-python\n",
    "# pip install matplotlib\n",
    "# pip install python-docx\n",
    "# pip install PyMuPDF\n",
    "\n",
    "\n",
    "\n"
   ]
  },
  {
   "attachments": {},
   "cell_type": "markdown",
   "id": "223336a3",
   "metadata": {},
   "source": [
    "\n",
    "# <p style=\"padding:10px;background-color:#DFCCFB;margin:0;color:#213555;font-family:newtimeroman;font-size:100%;text-align:center;border-radius: 50px 60px;overflow:hidden;font-weight:500\">Global Variables</p>"
   ]
  },
  {
   "cell_type": "code",
   "execution_count": null,
   "id": "90e191db",
   "metadata": {},
   "outputs": [],
   "source": [
    "digit_train_size = 1000\n",
    "digit_test_size = 10000\n",
    "\n",
    "letter_train_size = 9000\n",
    "letter_test_size = 20800"
   ]
  },
  {
   "attachments": {},
   "cell_type": "markdown",
   "id": "43d1c0b5",
   "metadata": {},
   "source": [
    "digit_train_size is to determine the numbers of training datas for digits, maximum train data for digits is 60k\n",
    "\n",
    "digit_test_size is to determine the numbers of test datas for digits, maximum is 10k\n",
    "\n",
    "letter_train_size is to determine the numbers of training datas for letters, maximum train data for letters is 185k\n",
    "\n",
    "letter_test_size is to determine the numbers of test datas for letters, maximum is 20.8k"
   ]
  },
  {
   "attachments": {},
   "cell_type": "markdown",
   "id": "fc5e88cf",
   "metadata": {},
   "source": [
    "\n",
    "# <p style=\"padding:10px;background-color:#DFCCFB;margin:0;color:#213555;font-family:newtimeroman;font-size:100%;text-align:center;border-radius: 50px 60px;overflow:hidden;font-weight:500\">Data Preparation</p>\n"
   ]
  },
  {
   "attachments": {},
   "cell_type": "markdown",
   "id": "d101cc86",
   "metadata": {},
   "source": [
    "\n",
    "# <p style=\"padding:10px;background-color:#AEE2FF;margin:0;color:#213555;font-family:newtimeroman;font-size:90%;text-align:center;border-radius: 50px 60px;overflow:hidden;font-weight:500\">Digit Files</p>\n",
    "\n"
   ]
  },
  {
   "cell_type": "code",
   "execution_count": null,
   "id": "f6e88235",
   "metadata": {
    "scrolled": true
   },
   "outputs": [],
   "source": [
    "x_tr_digit_fls = gzip.open('train-images-idx3-ubyte.gz','r')\n",
    "x_te_digit_fls = gzip.open('test-images-idx3-ubyte.gz','r')\n",
    "\n",
    "y_tr_digit_fls = gzip.open('train-labels-idx1-ubyte.gz','r')\n",
    "y_te_digit_fls = gzip.open('test-labels-idx1-ubyte.gz','r')"
   ]
  },
  {
   "attachments": {},
   "cell_type": "markdown",
   "id": "71bc6989",
   "metadata": {},
   "source": [
    "\n",
    "# <p style=\"padding:10px;background-color:#AEE2FF;margin:0;color:#213555;font-family:newtimeroman;font-size:90%;text-align:center;border-radius: 50px 60px;overflow:hidden;font-weight:500\">Letter Files</p>\n",
    "\n"
   ]
  },
  {
   "cell_type": "code",
   "execution_count": null,
   "id": "7e07cc24",
   "metadata": {},
   "outputs": [],
   "source": [
    "x_tr_letter_fls = gzip.open('emnist-letters-train-images-idx3-ubyte.gz','r')\n",
    "x_te_letter_fls = gzip.open('emnist-letters-test-images-idx3-ubyte.gz','r')\n",
    "\n",
    "y_tr_letter_fls = gzip.open('emnist-letters-train-labels-idx1-ubyte.gz','r')\n",
    "y_te_letter_fls = gzip.open('emnist-letters-test-labels-idx1-ubyte.gz','r')"
   ]
  },
  {
   "attachments": {},
   "cell_type": "markdown",
   "id": "85339384",
   "metadata": {},
   "source": [
    "\n",
    "# <p style=\"padding:10px;background-color:#AEE2FF;margin:0;color:#213555;font-family:newtimeroman;font-size:90%;text-align:center;border-radius: 50px 60px;overflow:hidden;font-weight:500\">Opening Digit Files</p>\n",
    "\n"
   ]
  },
  {
   "cell_type": "code",
   "execution_count": null,
   "id": "04865a26",
   "metadata": {},
   "outputs": [],
   "source": [
    "image_size = 28\n",
    "num_images = digit_train_size\n",
    "x_tr_digit_fls.read(16)\n",
    "buf = x_tr_digit_fls.read(image_size * image_size * num_images)\n",
    "x_tr_digit_raw = np.frombuffer(buf, dtype=np.uint8).astype(np.float32)\n",
    "x_tr_digit_raw = x_tr_digit_raw.reshape(num_images, image_size, image_size, 1)\n",
    "\n",
    "image_size = 28\n",
    "num_images = digit_test_size\n",
    "x_te_digit_fls.read(16)\n",
    "buf = x_te_digit_fls.read(image_size * image_size * num_images)\n",
    "x_te_digit_raw = np.frombuffer(buf, dtype=np.uint8).astype(np.float32)\n",
    "x_te_digit_raw = x_te_digit_raw.reshape(num_images, image_size, image_size, 1)"
   ]
  },
  {
   "attachments": {},
   "cell_type": "markdown",
   "id": "b7b2bba7",
   "metadata": {},
   "source": [
    "\n",
    "# <p style=\"padding:10px;background-color:#AEE2FF;margin:0;color:#213555;font-family:newtimeroman;font-size:90%;text-align:center;border-radius: 50px 60px;overflow:hidden;font-weight:500\">Opening Letter Files</p>\n",
    "\n"
   ]
  },
  {
   "cell_type": "code",
   "execution_count": null,
   "id": "25c88b15",
   "metadata": {},
   "outputs": [],
   "source": [
    "image_size = 28\n",
    "num_images = letter_train_size\n",
    "x_tr_letter_fls.read(16)\n",
    "buf = x_tr_letter_fls.read(image_size * image_size * num_images)\n",
    "x_tr_letter_raw = np.frombuffer(buf, dtype=np.uint8).astype(np.float32)\n",
    "x_tr_letter_raw = x_tr_letter_raw.reshape(num_images, image_size, image_size, 1)\n",
    "\n",
    "image_size = 28\n",
    "num_images = letter_test_size\n",
    "x_te_letter_fls.read(16)\n",
    "buf = x_te_letter_fls.read(image_size * image_size * num_images)\n",
    "x_te_letter_raw = np.frombuffer(buf, dtype=np.uint8).astype(np.float32)\n",
    "x_te_letter_raw = x_te_letter_raw.reshape(num_images, image_size, image_size, 1)"
   ]
  },
  {
   "attachments": {},
   "cell_type": "markdown",
   "id": "91cca0fa",
   "metadata": {},
   "source": [
    "\n",
    "\n",
    "# <p style=\"padding:10px;background-color:#AEE2FF;margin:0;color:#213555;font-family:newtimeroman;font-size:90%;text-align:center;border-radius: 50px 60px;overflow:hidden;font-weight:500\">Processing the file into each of a single element on it</p>\n",
    "\n"
   ]
  },
  {
   "cell_type": "code",
   "execution_count": null,
   "id": "9df1bb0d",
   "metadata": {},
   "outputs": [],
   "source": [
    "y_tr_digit_fls.read(8)\n",
    "y_tr_digit_list = []\n",
    "for i in range(0,digit_train_size):   \n",
    "    buf = y_tr_digit_fls.read(1)\n",
    "    y_tr_digit_list.append(np.frombuffer(buf, dtype=np.uint8).astype(np.int64))\n",
    "    \n",
    "y_te_digit_fls.read(8)\n",
    "y_te_digit_list = []\n",
    "for i in range(0,digit_test_size):   \n",
    "    buf = y_te_digit_fls.read(1)\n",
    "    y_te_digit_list.append(np.frombuffer(buf, dtype=np.uint8).astype(np.int64))\n",
    "    \n",
    "y_tr_letter_fls.read(8)\n",
    "y_tr_letter_list = []\n",
    "for i in range(0,letter_train_size):   \n",
    "    buf = y_tr_letter_fls.read(1)\n",
    "    y_tr_letter_list.append(np.frombuffer(buf, dtype=np.uint8).astype(np.int64))\n",
    "    \n",
    "y_te_letter_fls.read(8)\n",
    "y_te_letter_list = []\n",
    "for i in range(0,letter_test_size):   \n",
    "    buf = y_te_letter_fls.read(1)\n",
    "    y_te_letter_list.append(np.frombuffer(buf, dtype=np.uint8).astype(np.int64))"
   ]
  },
  {
   "attachments": {},
   "cell_type": "markdown",
   "id": "9c4791a1",
   "metadata": {},
   "source": [
    "\n",
    "# <p style=\"padding:10px;background-color:#AEE2FF;margin:0;color:#213555;font-family:newtimeroman;font-size:90%;text-align:center;border-radius: 50px 60px;overflow:hidden;font-weight:500\">Processing the file into int64 format from uint8</p>\n",
    "\n",
    "\n"
   ]
  },
  {
   "attachments": {},
   "cell_type": "markdown",
   "id": "b73e1c65",
   "metadata": {},
   "source": [
    "\n",
    "\n",
    "# <p style=\"padding:10px;background-color:#F5F3C1;margin:0;color:#213555;font-family:newtimeroman;font-size:80%;text-align:center;border-radius: 50px 60px;overflow:hidden;font-weight:500\">These are the first 5 image for digit recognition training</p>\n"
   ]
  },
  {
   "cell_type": "code",
   "execution_count": null,
   "id": "6356c65a",
   "metadata": {
    "scrolled": false
   },
   "outputs": [],
   "source": [
    "for i in range(5):\n",
    "    image = np.asarray(x_tr_digit_raw[i]).squeeze()\n",
    "    plt.imshow(image)\n",
    "    plt.show()"
   ]
  },
  {
   "attachments": {},
   "cell_type": "markdown",
   "id": "69410f39",
   "metadata": {},
   "source": [
    "\n",
    "\n",
    "# <p style=\"padding:10px;background-color:#F5F3C1;margin:0;color:#213555;font-family:newtimeroman;font-size:80%;text-align:center;border-radius: 50px 60px;overflow:hidden;font-weight:500\">These are the first 5 digit labels for the corresponding images</p>\n"
   ]
  },
  {
   "cell_type": "code",
   "execution_count": null,
   "id": "5ffcfc8e",
   "metadata": {
    "scrolled": false
   },
   "outputs": [],
   "source": [
    "y_tr_digit = pd.DataFrame(y_tr_digit_list, columns =['labels'])\n",
    "y_te_digit = pd.DataFrame(y_te_digit_list, columns =['labels'])\n",
    "y_tr_digit.head(5)"
   ]
  },
  {
   "attachments": {},
   "cell_type": "markdown",
   "id": "d3c69827",
   "metadata": {},
   "source": [
    "# <p style=\"padding:10px;background-color:#F5F3C1;margin:0;color:#213555;font-family:newtimeroman;font-size:80%;text-align:center;border-radius: 50px 60px;overflow:hidden;font-weight:500\">These are the first 5 image for letter recognition training</p>\n"
   ]
  },
  {
   "cell_type": "code",
   "execution_count": null,
   "id": "7346af18",
   "metadata": {},
   "outputs": [],
   "source": [
    "for i in range(5):\n",
    "    image = np.asarray(np.rot90(np.flip(x_tr_letter_raw[i], 0), k=1, axes=(1, 0))).squeeze()\n",
    "    plt.imshow(image)\n",
    "    plt.show()"
   ]
  },
  {
   "attachments": {},
   "cell_type": "markdown",
   "id": "bb6ecbc2",
   "metadata": {},
   "source": [
    "\n",
    "# <p style=\"padding:10px;background-color:#F5F3C1;margin:0;color:#213555;font-family:newtimeroman;font-size:80%;text-align:center;border-radius: 50px 60px;overflow:hidden;font-weight:500\">These are the first 5 letter labels for the corresponding images</p>\n"
   ]
  },
  {
   "cell_type": "code",
   "execution_count": null,
   "id": "18a7903f",
   "metadata": {},
   "outputs": [],
   "source": [
    "y_tr_letter = pd.DataFrame(y_tr_letter_list, columns =['labels'])\n",
    "y_te_letter = pd.DataFrame(y_te_letter_list, columns =['labels'])\n",
    "y_tr_letter = y_tr_letter.replace([1, 2, 3, 4, 5, 6, 7, 8, 9, 10, 11, 12, 13, 14, 15, 16, 17, 18, 19, 20, 21, 22, 23, 24, 25, 26], ['A', 'B', 'C', 'D', 'E', 'F', 'G', 'H', 'I', 'J', 'K', 'L', 'M', 'N', 'O', 'P', 'Q', 'R', 'S', 'T', 'U', 'V', 'W', 'X', 'Y', 'Z'])\n",
    "y_te_letter = y_te_letter.replace([1, 2, 3, 4, 5, 6, 7, 8, 9, 10, 11, 12, 13, 14, 15, 16, 17, 18, 19, 20, 21, 22, 23, 24, 25, 26], ['A', 'B', 'C', 'D', 'E', 'F', 'G', 'H', 'I', 'J', 'K', 'L', 'M', 'N', 'O', 'P', 'Q', 'R', 'S', 'T', 'U', 'V', 'W', 'X', 'Y', 'Z'])\n",
    "y_tr_letter.head(5)"
   ]
  },
  {
   "attachments": {},
   "cell_type": "markdown",
   "id": "44b3ab26",
   "metadata": {},
   "source": [
    "\n",
    "# <p style=\"padding:10px;background-color:#F5F3C1;margin:0;color:#213555;font-family:newtimeroman;font-size:80%;text-align:center;border-radius: 50px 60px;overflow:hidden;font-weight:500\">Converting a 2d array of the image into a 1d array format and substitude into a Dataframe</p>\n"
   ]
  },
  {
   "cell_type": "code",
   "execution_count": null,
   "id": "534a8959",
   "metadata": {},
   "outputs": [],
   "source": [
    "x_tr_digit_ravel = []\n",
    "for i in range(digit_train_size):\n",
    "    x_tr_digit_ravel.append(pd.DataFrame(np.asarray(x_tr_digit_raw[i].ravel()).squeeze()).squeeze())\n",
    "x_tr_digit = pd.DataFrame(x_tr_digit_ravel)\n",
    "\n",
    "x_te_digit_ravel = []\n",
    "for i in range(digit_test_size):\n",
    "    x_te_digit_ravel.append(pd.DataFrame(np.asarray(x_te_digit_raw[i].ravel()).squeeze()).squeeze())\n",
    "x_te_digit = pd.DataFrame(x_te_digit_ravel)\n",
    "\n",
    "x_tr_letter_ravel = []\n",
    "for i in range(letter_train_size):\n",
    "    x_tr_letter_ravel.append(pd.DataFrame(np.asarray(np.rot90(np.flip(x_tr_letter_raw[i], 0), k=1, axes=(1, 0)).ravel()).squeeze()).squeeze())\n",
    "x_tr_letter = pd.DataFrame(x_tr_letter_ravel)\n",
    "\n",
    "x_te_letter_ravel = []\n",
    "for i in range(letter_test_size):\n",
    "    x_te_letter_ravel.append(pd.DataFrame(np.asarray(np.rot90(np.flip(x_te_letter_raw[i], 0), k=1, axes=(1, 0)).ravel()).squeeze()).squeeze())\n",
    "x_te_letter = pd.DataFrame(x_te_letter_ravel)"
   ]
  },
  {
   "cell_type": "code",
   "execution_count": null,
   "id": "59f5e7a0",
   "metadata": {
    "scrolled": true
   },
   "outputs": [],
   "source": [
    "x_tr = x_tr_digit.append(x_tr_letter)\n",
    "x_te = x_te_digit.append(x_te_letter)\n",
    "\n",
    "y_tr = y_tr_digit.append(y_tr_letter)\n",
    "y_te = y_te_digit.append(y_te_letter)"
   ]
  },
  {
   "attachments": {},
   "cell_type": "markdown",
   "id": "2c28d45e",
   "metadata": {},
   "source": [
    "\n",
    "# <p style=\"padding:10px;background-color:#F5F3C1;margin:0;color:#213555;font-family:newtimeroman;font-size:80%;text-align:center;border-radius: 50px 60px;overflow:hidden;font-weight:500\">Combining digit dataset with letter dataset</p>\n",
    "\n"
   ]
  },
  {
   "cell_type": "code",
   "execution_count": null,
   "id": "8e41b534",
   "metadata": {},
   "outputs": [],
   "source": [
    "y_tr = y_tr.astype('str')\n",
    "y_te = y_te.astype('str')"
   ]
  },
  {
   "attachments": {},
   "cell_type": "markdown",
   "id": "5551ddf9",
   "metadata": {},
   "source": [
    "# <p style=\"padding:10px;background-color:#EF9595;margin:0;color:#213555;font-family:newtimeroman;font-size:100%;text-align:center;border-radius: 50px 60px;overflow:hidden;font-weight:500\">Kar Eun</p>"
   ]
  },
  {
   "attachments": {},
   "cell_type": "markdown",
   "id": "34b885b3",
   "metadata": {},
   "source": [
    "# <p style=\"padding:10px;background-color:#DFCCFB;margin:0;color:#213555;font-family:newtimeroman;font-size:100%;text-align:center;border-radius: 50px 60px;overflow:hidden;font-weight:500\">Modeling</p>"
   ]
  },
  {
   "attachments": {},
   "cell_type": "markdown",
   "id": "9c66c344",
   "metadata": {},
   "source": [
    "\n",
    "# <p style=\"padding:10px;background-color:#AEE2FF;margin:0;color:#213555;font-family:newtimeroman;font-size:90%;text-align:center;border-radius: 50px 60px;overflow:hidden;font-weight:500\">Modeling (Linear SVM)</p>"
   ]
  },
  {
   "cell_type": "code",
   "execution_count": null,
   "id": "17f8940a",
   "metadata": {},
   "outputs": [],
   "source": [
    "model = svm.SVC(kernel='linear')\n",
    "model.fit(x_tr, y_tr)"
   ]
  },
  {
   "attachments": {},
   "cell_type": "markdown",
   "id": "bbed5adc",
   "metadata": {},
   "source": [
    "\n",
    "# <p style=\"padding:10px;background-color:#AEE2FF;margin:0;color:#213555;font-family:newtimeroman;font-size:90%;text-align:center;border-radius: 50px 60px;overflow:hidden;font-weight:500\">Modeling (RBF SVM)</p>"
   ]
  },
  {
   "cell_type": "code",
   "execution_count": null,
   "id": "c6f3ecdb",
   "metadata": {},
   "outputs": [],
   "source": [
    "model2 = svm.SVC(kernel='rbf', gamma='scale')\n",
    "model2.fit(x_tr, y_tr)"
   ]
  },
  {
   "attachments": {},
   "cell_type": "markdown",
   "id": "95bd8e6a",
   "metadata": {},
   "source": [
    "\n",
    "# <p style=\"padding:10px;background-color:#AEE2FF;margin:0;color:#213555;font-family:newtimeroman;font-size:90%;text-align:center;border-radius: 50px 60px;overflow:hidden;font-weight:500\">Modeling (Polynomial SVM)</p>"
   ]
  },
  {
   "cell_type": "code",
   "execution_count": null,
   "id": "91b494a5",
   "metadata": {},
   "outputs": [],
   "source": [
    "model3 = svm.SVC(kernel='poly', degree=3, gamma='scale')\n",
    "model3.fit(x_tr, y_tr)"
   ]
  },
  {
   "attachments": {},
   "cell_type": "markdown",
   "id": "5128d625",
   "metadata": {},
   "source": [
    "# <p style=\"padding:10px;background-color:#AEE2FF;margin:0;color:#213555;font-family:newtimeroman;font-size:90%;text-align:center;border-radius: 50px 60px;overflow:hidden;font-weight:500\">Result (Linear SVM)</p>"
   ]
  },
  {
   "attachments": {},
   "cell_type": "markdown",
   "id": "299bc86a",
   "metadata": {},
   "source": [
    "\n",
    "# <p style=\"padding:10px;background-color:#F5F3C1;margin:0;color:#213555;font-family:newtimeroman;font-size:80%;text-align:center;border-radius: 50px 60px;overflow:hidden;font-weight:500\">Accuracy</p>\n"
   ]
  },
  {
   "cell_type": "code",
   "execution_count": null,
   "id": "ee79b25c",
   "metadata": {},
   "outputs": [],
   "source": [
    "# Calculate accuracy score using the model's score method\n",
    "accuracyScore = model.score(x_te, y_te) * 100\n",
    "\n",
    "# Print the accuracy score as a percentage\n",
    "print('Accuracy Score : {:.3f}%'.format(accuracyScore))\n"
   ]
  },
  {
   "attachments": {},
   "cell_type": "markdown",
   "id": "0f8e17e3",
   "metadata": {},
   "source": [
    "\n",
    "# <p style=\"padding:10px;background-color:#F5F3C1;margin:0;color:#213555;font-family:newtimeroman;font-size:80%;text-align:center;border-radius: 50px 60px;overflow:hidden;font-weight:500\">Confusion Matrix</p>\n"
   ]
  },
  {
   "cell_type": "code",
   "execution_count": null,
   "id": "4f640234",
   "metadata": {},
   "outputs": [],
   "source": [
    "# Generate predictions from the model\n",
    "svm_pred = model.predict(x_te)\n",
    "\n",
    "# Create a confusion matrix\n",
    "cm = confusion_matrix(y_te, svm_pred)\n",
    "\n",
    "# Set the figure size\n",
    "fig, ax = plt.subplots(figsize=(16, 16))\n",
    "\n",
    "# Plot the confusion matrix as a heatmap\n",
    "sns.heatmap(cm, annot=True, fmt='d', cmap='YlGnBu', ax=ax)\n",
    "\n",
    "# Add labels and a title\n",
    "ax.set_xlabel('Predicted')\n",
    "ax.set_ylabel('True')\n",
    "ax.set_title('Confusion Matrix')\n",
    "\n",
    "# Show the plot\n",
    "plt.show()"
   ]
  },
  {
   "attachments": {},
   "cell_type": "markdown",
   "id": "72d84ac7",
   "metadata": {},
   "source": [
    "\n",
    "\n",
    "# <p style=\"padding:10px;background-color:#F5F3C1;margin:0;color:#213555;font-family:newtimeroman;font-size:80%;text-align:center;border-radius: 50px 60px;overflow:hidden;font-weight:500\">Classification Report</p>\n"
   ]
  },
  {
   "cell_type": "code",
   "execution_count": null,
   "id": "6f7d304e",
   "metadata": {},
   "outputs": [],
   "source": [
    "# Calculate precision, recall, and F1-score for multiclass classification\n",
    "svm_pre = precision_score(y_te, svm_pred, average='weighted') * 100\n",
    "svm_rec = recall_score(y_te, svm_pred, average='weighted') * 100\n",
    "svm_f1 = f1_score(y_te, svm_pred, average='weighted') * 100\n",
    "\n",
    "# Print the precision, recall, and F1-score as percentages\n",
    "print('Precision: {:.2f}%'.format(svm_pre))\n",
    "print('Recall: {:.2f}%'.format(svm_rec))\n",
    "print('F1-Score: {:.2f}%'.format(svm_f1))\n",
    "\n",
    "# Generate a classification report\n",
    "report = classification_report(y_te, svm_pred)\n",
    "\n",
    "# Print the classification report\n",
    "print(report)"
   ]
  },
  {
   "attachments": {},
   "cell_type": "markdown",
   "id": "3da1c6b6",
   "metadata": {},
   "source": [
    "# <p style=\"padding:10px;background-color:#AEE2FF;margin:0;color:#213555;font-family:newtimeroman;font-size:90%;text-align:center;border-radius: 50px 60px;overflow:hidden;font-weight:500\">Result (RBF SVM)</p>"
   ]
  },
  {
   "attachments": {},
   "cell_type": "markdown",
   "id": "99a711c4",
   "metadata": {},
   "source": [
    "\n",
    "# <p style=\"padding:10px;background-color:#F5F3C1;margin:0;color:#213555;font-family:newtimeroman;font-size:80%;text-align:center;border-radius: 50px 60px;overflow:hidden;font-weight:500\">Accuracy</p>\n"
   ]
  },
  {
   "cell_type": "code",
   "execution_count": null,
   "id": "b98b0827",
   "metadata": {},
   "outputs": [],
   "source": [
    "# Calculate accuracy score using the model's score method\n",
    "accuracyScore2 = model2.score(x_te, y_te) * 100\n",
    "\n",
    "# Print the accuracy score as a percentage\n",
    "print('Accuracy Score : {:.3f}%'.format(accuracyScore2))\n",
    "\n"
   ]
  },
  {
   "attachments": {},
   "cell_type": "markdown",
   "id": "4692577b",
   "metadata": {},
   "source": [
    "\n",
    "\n",
    "# <p style=\"padding:10px;background-color:#F5F3C1;margin:0;color:#213555;font-family:newtimeroman;font-size:80%;text-align:center;border-radius: 50px 60px;overflow:hidden;font-weight:500\">Confusion Matrix</p>\n"
   ]
  },
  {
   "cell_type": "code",
   "execution_count": null,
   "id": "4f2d5220",
   "metadata": {},
   "outputs": [],
   "source": [
    "# Generate predictions from the model\n",
    "svm2_pred = model2.predict(x_te)\n",
    "\n",
    "# Create a confusion matrix\n",
    "cm = confusion_matrix(y_te, svm2_pred)\n",
    "\n",
    "# Set the figure size\n",
    "fig, ax = plt.subplots(figsize=(16, 16))\n",
    "\n",
    "# Plot the confusion matrix as a heatmap using seaborn\n",
    "sns.heatmap(cm, annot=True, fmt='d', cmap='YlGnBu', ax=ax)\n",
    "\n",
    "# Add labels and a title\n",
    "ax.set_xlabel('Predicted')\n",
    "ax.set_ylabel('True')\n",
    "ax.set_title('Confusion Matrix')\n",
    "\n",
    "# Show the plot\n",
    "plt.show()\n"
   ]
  },
  {
   "attachments": {},
   "cell_type": "markdown",
   "id": "599f864f",
   "metadata": {},
   "source": [
    "\n",
    "\n",
    "# <p style=\"padding:10px;background-color:#F5F3C1;margin:0;color:#213555;font-family:newtimeroman;font-size:80%;text-align:center;border-radius: 50px 60px;overflow:hidden;font-weight:500\">Classification Report</p>\n"
   ]
  },
  {
   "cell_type": "code",
   "execution_count": null,
   "id": "356d0d86",
   "metadata": {},
   "outputs": [],
   "source": [
    "\n",
    "\n",
    "# Calculate precision, recall, and F1-score for multiclass classification\n",
    "svm2_pre = precision_score(y_te, svm2_pred, average='weighted') * 100\n",
    "svm2_rec = recall_score(y_te, svm2_pred, average='weighted') * 100\n",
    "svm2_f1 = f1_score(y_te, svm2_pred, average='weighted') * 100\n",
    "\n",
    "# Print the precision, recall, and F1-score as percentages\n",
    "print('Precision: {:.2f}%'.format(svm2_pre))\n",
    "print('Recall: {:.2f}%'.format(svm2_rec))\n",
    "print('F1-Score: {:.2f}%'.format(svm2_f1))\n",
    "\n",
    "# Generate a classification report\n",
    "report2 = classification_report(y_te, svm2_pred)\n",
    "\n",
    "# Print the classification report\n",
    "print(report2)"
   ]
  },
  {
   "attachments": {},
   "cell_type": "markdown",
   "id": "09fc47f7",
   "metadata": {},
   "source": [
    "# <p style=\"padding:10px;background-color:#AEE2FF;margin:0;color:#213555;font-family:newtimeroman;font-size:90%;text-align:center;border-radius: 50px 60px;overflow:hidden;font-weight:500\">Result (Polynomial SVM)</p>"
   ]
  },
  {
   "attachments": {},
   "cell_type": "markdown",
   "id": "d3444e37",
   "metadata": {},
   "source": [
    "\n",
    "\n",
    "# <p style=\"padding:10px;background-color:#F5F3C1;margin:0;color:#213555;font-family:newtimeroman;font-size:80%;text-align:center;border-radius: 50px 60px;overflow:hidden;font-weight:500\">Accuracy</p>\n"
   ]
  },
  {
   "cell_type": "code",
   "execution_count": null,
   "id": "2ad4e5fb",
   "metadata": {},
   "outputs": [],
   "source": [
    "# Calculate accuracy score using the model's score method\n",
    "accuracyScore3 = model3.score(x_te, y_te) * 100\n",
    "\n",
    "# Print the accuracy score as a percentage\n",
    "print('Accuracy Score : {:.3f}%'.format(accuracyScore3))\n",
    "\n",
    "\n"
   ]
  },
  {
   "attachments": {},
   "cell_type": "markdown",
   "id": "3868559d",
   "metadata": {},
   "source": [
    "\n",
    "\n",
    "# <p style=\"padding:10px;background-color:#F5F3C1;margin:0;color:#213555;font-family:newtimeroman;font-size:80%;text-align:center;border-radius: 50px 60px;overflow:hidden;font-weight:500\">Confusion Matrix</p>\n"
   ]
  },
  {
   "cell_type": "code",
   "execution_count": null,
   "id": "ab6d87d1",
   "metadata": {},
   "outputs": [],
   "source": [
    "# Generate predictions from the model\n",
    "svm3_pred = model3.predict(x_te)\n",
    "\n",
    "# Create a confusion matrix\n",
    "cm = confusion_matrix(y_te, svm3_pred)\n",
    "\n",
    "# Set the figure size\n",
    "fig, ax = plt.subplots(figsize=(16, 16))\n",
    "\n",
    "# Plot the confusion matrix as a heatmap using seaborn\n",
    "sns.heatmap(cm, annot=True, cmap=plt.cm.Blues, ax=ax)\n",
    "\n",
    "# Add labels and a title\n",
    "ax.set_xlabel('Predicted')\n",
    "ax.set_ylabel('True')\n",
    "ax.set_title('Confusion Matrix')\n",
    "\n",
    "# Show the plot\n",
    "plt.show()"
   ]
  },
  {
   "attachments": {},
   "cell_type": "markdown",
   "id": "aa9fce22",
   "metadata": {},
   "source": [
    "\n",
    "\n",
    "# <p style=\"padding:10px;background-color:#F5F3C1;margin:0;color:#213555;font-family:newtimeroman;font-size:80%;text-align:center;border-radius: 50px 60px;overflow:hidden;font-weight:500\">Classification Report</p>\n"
   ]
  },
  {
   "cell_type": "code",
   "execution_count": null,
   "id": "f3aff61f",
   "metadata": {},
   "outputs": [],
   "source": [
    "\n",
    "\n",
    "# Calculate precision, recall, and F1-score for multiclass classification\n",
    "svm3_pre = precision_score(y_te, svm3_pred, average='weighted') * 100\n",
    "svm3_rec = recall_score(y_te, svm3_pred, average='weighted') * 100\n",
    "svm3_f1 = f1_score(y_te, svm3_pred, average='weighted') * 100\n",
    "\n",
    "# Print the precision, recall, and F1-score as percentages\n",
    "print('Precision: {:.2f}%'.format(svm3_pre))\n",
    "print('Recall: {:.2f}%'.format(svm3_rec))\n",
    "print('F1-Score: {:.2f}%'.format(svm3_f1))\n",
    "\n",
    "# Generate a classification report\n",
    "report3 = classification_report(y_te, svm3_pred)\n",
    "\n",
    "# Print the classification report\n",
    "print(report3)"
   ]
  },
  {
   "attachments": {},
   "cell_type": "markdown",
   "id": "b1ff77ad",
   "metadata": {},
   "source": [
    "# <p style=\"padding:10px;background-color:#AEE2FF;margin:0;color:#213555;font-family:newtimeroman;font-size:90%;text-align:center;border-radius: 50px 60px;overflow:hidden;font-weight:500\">Hyperparameter Tuning</p>"
   ]
  },
  {
   "cell_type": "code",
   "execution_count": null,
   "id": "ae3fb940",
   "metadata": {},
   "outputs": [],
   "source": [
    "al_name = ['Linear SVM','RBF SVM','Polynomial SVM']\n",
    "acc_all = [(al)for al in [accuracyScore, accuracyScore2, accuracyScore3]]\n",
    "pre_all = [(al)for al in [svm_pre, svm2_pre,svm3_pre]]\n",
    "rec_all = [(al)for al in [svm_rec , svm2_rec,svm3_rec]]\n",
    "f1_all = [(al)for al in [svm_f1, svm2_f1,svm3_f1]]"
   ]
  },
  {
   "cell_type": "code",
   "execution_count": null,
   "id": "b5e90540",
   "metadata": {},
   "outputs": [],
   "source": [
    "plt.figure(figsize=(10,10))\n",
    "plt.grid(True)\n",
    "bars = plt.bar(x=al_name, height=acc_all,color=['red', 'green', 'blue', 'yellow'])\n",
    "\n",
    "for bar in bars:\n",
    "    yval = bar.get_height()\n",
    "    plt.text(bar.get_x() + bar.get_width()/2, yval + 2, round(yval, 2), ha='center', color='black', fontsize=15)\n",
    "\n",
    "\n",
    "plt.xticks()\n",
    "plt.ylim((0,110))\n",
    "plt.yticks(np.arange(0,110,5))\n",
    "plt.title(\"Comparing Accuracy between Each Algorithms \\n\")\n",
    "plt.ylabel(\"Accuracy (%)\")\n",
    "plt.xlabel(\"Algorithms\")\n",
    "plt.show()\n"
   ]
  },
  {
   "cell_type": "code",
   "execution_count": null,
   "id": "a6439d72",
   "metadata": {},
   "outputs": [],
   "source": [
    "plt.figure(figsize=(10,10))\n",
    "plt.grid(True)\n",
    "bars = plt.bar(x=al_name, height=pre_all,color=['red', 'green', 'blue', 'yellow'])\n",
    "\n",
    "for bar in bars:\n",
    "    yval = bar.get_height()\n",
    "    plt.text(bar.get_x() + bar.get_width()/2, yval + 2, round(yval, 2), ha='center', color='black', fontsize=15)\n",
    "\n",
    "plt.xticks()\n",
    "plt.ylim((0,110))\n",
    "plt.yticks(np.arange(0,110,5))\n",
    "plt.title(\"Comparing Precision between Each Algorithms \\n\")\n",
    "plt.ylabel(\"Precision %\")\n",
    "plt.xlabel(\"Algorithms\")\n",
    "plt.show()"
   ]
  },
  {
   "cell_type": "code",
   "execution_count": null,
   "id": "efc01187",
   "metadata": {},
   "outputs": [],
   "source": [
    "plt.figure(figsize=(10,10))\n",
    "plt.grid(True)\n",
    "bars = plt.bar(x=al_name, height=rec_all,color=['red', 'green', 'blue', 'yellow'])\n",
    "\n",
    "for bar in bars:\n",
    "    yval = bar.get_height()\n",
    "    plt.text(bar.get_x() + bar.get_width()/2, yval + 2, round(yval, 2), ha='center', color='black', fontsize=15)\n",
    "\n",
    "\n",
    "plt.xticks()\n",
    "plt.ylim((0,110))\n",
    "plt.yticks(np.arange(0,110,5))\n",
    "plt.title(\"Comparing Recall between Each Algorithms \\n\")\n",
    "plt.ylabel(\"Recall %\")\n",
    "plt.xlabel(\"Algorithms\")\n",
    "plt.show()"
   ]
  },
  {
   "cell_type": "code",
   "execution_count": null,
   "id": "107934dd",
   "metadata": {},
   "outputs": [],
   "source": [
    "plt.figure(figsize=(10,10))\n",
    "plt.grid(True)\n",
    "bars = plt.bar(x=al_name, height=f1_all,color=['red', 'green', 'blue', 'yellow'])\n",
    "\n",
    "for bar in bars:\n",
    "    yval = bar.get_height()\n",
    "    plt.text(bar.get_x() + bar.get_width()/2, yval + 2, round(yval, 2), ha='center', color='black', fontsize=15)\n",
    "\n",
    "plt.xticks()\n",
    "plt.ylim((0,110))\n",
    "plt.yticks(np.arange(0,110,5))\n",
    "plt.title(\"Comparing F1-Score between Each Algorithms \\n\")\n",
    "plt.ylabel(\"F1-Score %\")\n",
    "plt.xlabel(\"Algorithms\")\n",
    "plt.show()"
   ]
  },
  {
   "attachments": {},
   "cell_type": "markdown",
   "id": "248da410",
   "metadata": {},
   "source": []
  },
  {
   "attachments": {},
   "cell_type": "markdown",
   "id": "b4869924",
   "metadata": {},
   "source": [
    "# <p style=\"padding:10px;background-color:#EF9595;margin:0;color:#213555;font-family:newtimeroman;font-size:100%;text-align:center;border-radius: 50px 60px;overflow:hidden;font-weight:500\">Soo Khee</p>"
   ]
  },
  {
   "attachments": {},
   "cell_type": "markdown",
   "id": "96011955",
   "metadata": {},
   "source": [
    "# <p style=\"padding:10px;background-color:#AEE2FF;margin:0;color:#213555;font-family:newtimeroman;font-size:90%;text-align:center;border-radius: 50px 60px;overflow:hidden;font-weight:500\">Modeling (KNN)</p>"
   ]
  },
  {
   "cell_type": "code",
   "execution_count": null,
   "id": "ea1d66fc",
   "metadata": {},
   "outputs": [],
   "source": [
    "# instantiate model\n",
    "knn = KNeighborsClassifier(n_neighbors = 5)"
   ]
  },
  {
   "cell_type": "code",
   "execution_count": null,
   "id": "8cffeaea",
   "metadata": {},
   "outputs": [],
   "source": [
    "# fit model to data\n",
    "knn.fit(x_tr, y_tr)"
   ]
  },
  {
   "attachments": {},
   "cell_type": "markdown",
   "id": "e4a83df0",
   "metadata": {},
   "source": [
    "\n",
    "# <p style=\"padding:10px;background-color:#AEE2FF;margin:0;color:#213555;font-family:newtimeroman;font-size:90%;text-align:center;border-radius: 50px 60px;overflow:hidden;font-weight:500\">Result (KNN)</p>"
   ]
  },
  {
   "attachments": {},
   "cell_type": "markdown",
   "id": "7d08060a",
   "metadata": {},
   "source": [
    "# <p style=\"padding:10px;background-color:#F5F3C1;margin:0;color:#213555;font-family:newtimeroman;font-size:80%;text-align:center;border-radius: 50px 60px;overflow:hidden;font-weight:500\">Accuracy, Precision, Recall, F1 Score</p>\n"
   ]
  },
  {
   "cell_type": "code",
   "execution_count": null,
   "id": "ce79f622",
   "metadata": {},
   "outputs": [],
   "source": [
    "# predict on new data\n",
    "y_knn=knn.predict(x_te)"
   ]
  },
  {
   "cell_type": "code",
   "execution_count": null,
   "id": "891f6202",
   "metadata": {},
   "outputs": [],
   "source": [
    "# Performance evaluation\n",
    "accuracy = accuracy_score(y_te, y_knn)*100\n",
    "precision = precision_score(y_te, y_knn, average='weighted')*100\n",
    "recall = recall_score(y_te, y_knn, average='weighted')*100\n",
    "f1 = f1_score(y_te, y_knn, average='weighted')*100"
   ]
  },
  {
   "cell_type": "code",
   "execution_count": null,
   "id": "f2e0ec81",
   "metadata": {},
   "outputs": [],
   "source": [
    "# Print the evaluation metrics\n",
    "print(\"Accuracy  : {:.4f}%\".format(accuracy))\n",
    "print(\"Precision : {:.4f}%\".format(precision))\n",
    "print(\"Recall    : {:.4f}%\".format(recall))\n",
    "print(\"F1 Score  : {:.4f}%\".format(f1))"
   ]
  },
  {
   "attachments": {},
   "cell_type": "markdown",
   "id": "f9b20970",
   "metadata": {},
   "source": [
    "\n",
    "\n",
    "# <p style=\"padding:10px;background-color:#F5F3C1;margin:0;color:#213555;font-family:newtimeroman;font-size:80%;text-align:center;border-radius: 50px 60px;overflow:hidden;font-weight:500\">Classification Report</p>\n"
   ]
  },
  {
   "cell_type": "code",
   "execution_count": null,
   "id": "5a2e913d",
   "metadata": {},
   "outputs": [],
   "source": [
    "# Classification Report\n",
    "report = classification_report(y_te, y_knn)\n",
    "\n",
    "# Print the classification report\n",
    "print(report)"
   ]
  },
  {
   "attachments": {},
   "cell_type": "markdown",
   "id": "41361208",
   "metadata": {},
   "source": [
    "\n",
    "# <p style=\"padding:10px;background-color:#F5F3C1;margin:0;color:#213555;font-family:newtimeroman;font-size:80%;text-align:center;border-radius: 50px 60px;overflow:hidden;font-weight:500\">Confusion Matrix</p>\n"
   ]
  },
  {
   "cell_type": "code",
   "execution_count": null,
   "id": "53656d99",
   "metadata": {},
   "outputs": [],
   "source": [
    "# Compute the confusion matrix\n",
    "cm = confusion_matrix(y_te, y_knn)\n",
    "\n",
    "# Plot the confusion matrix using seaborn\n",
    "plt.figure(figsize=(16, 16))\n",
    "sns.heatmap(cm, annot=True, fmt=\"d\", cmap=\"Blues\")\n",
    "\n",
    "plt.xlabel('Predicted')\n",
    "plt.ylabel('True')\n",
    "plt.title('Confusion Matrix')\n",
    "plt.show()"
   ]
  },
  {
   "attachments": {},
   "cell_type": "markdown",
   "id": "79d584cc",
   "metadata": {},
   "source": [
    "# <p style=\"padding:10px;background-color:#AEE2FF;margin:0;color:#213555;font-family:newtimeroman;font-size:90%;text-align:center;border-radius: 50px 60px;overflow:hidden;font-weight:500\">Hyperparameter Tuning</p>\n"
   ]
  },
  {
   "attachments": {},
   "cell_type": "markdown",
   "id": "b91ac6bd",
   "metadata": {},
   "source": [
    "\n",
    "\n",
    "# <p style=\"padding:10px;background-color:#F5F3C1;margin:0;color:#213555;font-family:newtimeroman;font-size:80%;text-align:center;border-radius: 50px 60px;overflow:hidden;font-weight:500\">Grid Search</p>\n"
   ]
  },
  {
   "cell_type": "code",
   "execution_count": null,
   "id": "13fba5ae",
   "metadata": {},
   "outputs": [],
   "source": [
    "# Define parameter grid for grid search\n",
    "param_grid = {\n",
    "    'n_neighbors': [1, 3, 5, 7, 9, 11, 21, 41, 61],\n",
    "    'weights': ['uniform', 'distance'],\n",
    "}\n",
    "\n",
    "# Create GridSearchCV instance\n",
    "grid_search = GridSearchCV(estimator=knn, param_grid=param_grid, cv=5, scoring='accuracy')\n",
    "grid_search.fit(x_tr, y_tr)\n",
    "best_score=grid_search.best_score_*100\n",
    "best_model=grid_search.best_estimator_"
   ]
  },
  {
   "cell_type": "code",
   "execution_count": null,
   "id": "51164f93",
   "metadata": {},
   "outputs": [],
   "source": [
    "# Print best parameters and corresponding accuracy\n",
    "print(\"Best Parameters:\", grid_search.best_params_)\n",
    "print(\"Best Accuracy  : {:.4f}%\".format(best_score))"
   ]
  },
  {
   "attachments": {},
   "cell_type": "markdown",
   "id": "22481cb5",
   "metadata": {},
   "source": [
    "\n",
    "\n",
    "# <p style=\"padding:10px;background-color:#F5F3C1;margin:0;color:#213555;font-family:newtimeroman;font-size:80%;text-align:center;border-radius: 50px 60px;overflow:hidden;font-weight:500\">Accuracy, Precision, Recall, F1 Score</p>\n"
   ]
  },
  {
   "cell_type": "code",
   "execution_count": null,
   "id": "9de75652",
   "metadata": {},
   "outputs": [],
   "source": [
    "y_knn = best_model.predict(x_te)"
   ]
  },
  {
   "cell_type": "code",
   "execution_count": null,
   "id": "7ab2f7c6",
   "metadata": {},
   "outputs": [],
   "source": [
    "# Performance evaluation\n",
    "accuracy = accuracy_score(y_te, y_knn)*100\n",
    "precision = precision_score(y_te, y_knn, average='weighted')*100\n",
    "recall = recall_score(y_te, y_knn, average='weighted')*100\n",
    "f1 = f1_score(y_te, y_knn, average='weighted')*100"
   ]
  },
  {
   "cell_type": "code",
   "execution_count": null,
   "id": "33a4a6a4",
   "metadata": {},
   "outputs": [],
   "source": [
    "# Print the evaluation metrics\n",
    "print(\"Accuracy  : {:.4f}%\".format(accuracy))\n",
    "print(\"Precision : {:.4f}%\".format(precision))\n",
    "print(\"Recall    : {:.4f}%\".format(recall))\n",
    "print(\"F1 Score  : {:.4f}%\".format(f1))"
   ]
  },
  {
   "attachments": {},
   "cell_type": "markdown",
   "id": "48685e49",
   "metadata": {},
   "source": [
    "\n",
    "\n",
    "# <p style=\"padding:10px;background-color:#F5F3C1;margin:0;color:#213555;font-family:newtimeroman;font-size:80%;text-align:center;border-radius: 50px 60px;overflow:hidden;font-weight:500\">Classification Report</p>\n"
   ]
  },
  {
   "cell_type": "code",
   "execution_count": null,
   "id": "7cb2c999",
   "metadata": {},
   "outputs": [],
   "source": [
    "# Classification Report\n",
    "report = classification_report(y_te, y_knn)\n",
    "\n",
    "# Print the classification report\n",
    "print(report)"
   ]
  },
  {
   "attachments": {},
   "cell_type": "markdown",
   "id": "134e0140",
   "metadata": {},
   "source": [
    "\n",
    "# <p style=\"padding:10px;background-color:#F5F3C1;margin:0;color:#213555;font-family:newtimeroman;font-size:80%;text-align:center;border-radius: 50px 60px;overflow:hidden;font-weight:500\">Confusion Matrix</p>\n"
   ]
  },
  {
   "cell_type": "code",
   "execution_count": null,
   "id": "a5ca70ae",
   "metadata": {},
   "outputs": [],
   "source": [
    "# Compute the confusion matrix\n",
    "cm = confusion_matrix(y_te, y_knn)\n",
    "\n",
    "# Plot the confusion matrix using seaborn\n",
    "plt.figure(figsize=(16, 16))\n",
    "sns.heatmap(cm, annot=True, fmt=\"d\", cmap=\"Blues\")\n",
    "\n",
    "plt.xlabel('Predicted')\n",
    "plt.ylabel('True')\n",
    "plt.title('Confusion Matrix')\n",
    "plt.show()"
   ]
  },
  {
   "attachments": {},
   "cell_type": "markdown",
   "id": "e9f80d9e",
   "metadata": {},
   "source": [
    "\n",
    "\n",
    "# <p style=\"padding:10px;background-color:#EF9595;margin:0;color:#213555;font-family:newtimeroman;font-size:100%;text-align:center;border-radius: 50px 60px;overflow:hidden;font-weight:500\">Wei Hong</p>"
   ]
  },
  {
   "attachments": {},
   "cell_type": "markdown",
   "id": "4f34baca",
   "metadata": {},
   "source": [
    "\n",
    "\n",
    "# <p style=\"padding:10px;background-color:#AEE2FF;margin:0;color:#213555;font-family:newtimeroman;font-size:90%;text-align:center;border-radius: 50px 60px;overflow:hidden;font-weight:500\">Modeling (Random Forest)</p>"
   ]
  },
  {
   "cell_type": "code",
   "execution_count": null,
   "id": "1a21c068",
   "metadata": {},
   "outputs": [],
   "source": [
    "rf = RandomForestClassifier(n_estimators=100, random_state=42)\n",
    "rf.fit(x_tr, y_tr)"
   ]
  },
  {
   "attachments": {},
   "cell_type": "markdown",
   "id": "6f77e114",
   "metadata": {},
   "source": [
    "\n",
    "\n",
    "# <p style=\"padding:10px;background-color:#AEE2FF;margin:0;color:#213555;font-family:newtimeroman;font-size:90%;text-align:center;border-radius: 50px 60px;overflow:hidden;font-weight:500\">Result (Random Forest)</p>"
   ]
  },
  {
   "attachments": {},
   "cell_type": "markdown",
   "id": "0dc2e9ac",
   "metadata": {},
   "source": [
    "# <p style=\"padding:10px;background-color:#F5F3C1;margin:0;color:#213555;font-family:newtimeroman;font-size:80%;text-align:center;border-radius: 50px 60px;overflow:hidden;font-weight:500\">Accuracy, Precision, Recall, F1 Score</p>\n"
   ]
  },
  {
   "cell_type": "code",
   "execution_count": null,
   "id": "9e66ddd9",
   "metadata": {},
   "outputs": [],
   "source": [
    "# predict on new data\n",
    "y_rf=rf.predict(x_te)"
   ]
  },
  {
   "cell_type": "code",
   "execution_count": null,
   "id": "54630247",
   "metadata": {},
   "outputs": [],
   "source": [
    "# Performance evaluation\n",
    "accuracy = accuracy_score(y_te, y_rf)*100\n",
    "precision = precision_score(y_te, y_rf, average='weighted')*100\n",
    "recall = recall_score(y_te, y_rf, average='weighted')*100\n",
    "f1 = f1_score(y_te, y_rf, average='weighted')*100"
   ]
  },
  {
   "cell_type": "code",
   "execution_count": null,
   "id": "f4f2a39e",
   "metadata": {},
   "outputs": [],
   "source": [
    "# Print the evaluation metrics\n",
    "print(\"Accuracy  : {:.4f}%\".format(accuracy))\n",
    "print(\"Precision : {:.4f}%\".format(precision))\n",
    "print(\"Recall    : {:.4f}%\".format(recall))\n",
    "print(\"F1 Score  : {:.4f}%\".format(f1))"
   ]
  },
  {
   "attachments": {},
   "cell_type": "markdown",
   "id": "7d5424ec",
   "metadata": {},
   "source": [
    "\n",
    "\n",
    "# <p style=\"padding:10px;background-color:#F5F3C1;margin:0;color:#213555;font-family:newtimeroman;font-size:80%;text-align:center;border-radius: 50px 60px;overflow:hidden;font-weight:500\">Classification Report</p>\n"
   ]
  },
  {
   "cell_type": "code",
   "execution_count": null,
   "id": "abbc4ae2",
   "metadata": {},
   "outputs": [],
   "source": [
    "y_pred = rf.predict(x_te)\n",
    "\n",
    "print(classification_report(y_te,y_pred))"
   ]
  },
  {
   "attachments": {},
   "cell_type": "markdown",
   "id": "af6a22c5",
   "metadata": {},
   "source": [
    "# <p style=\"padding:10px;background-color:#F5F3C1;margin:0;color:#213555;font-family:newtimeroman;font-size:80%;text-align:center;border-radius: 50px 60px;overflow:hidden;font-weight:500\">Confusion Matrix</p>\n"
   ]
  },
  {
   "cell_type": "code",
   "execution_count": null,
   "id": "c3b8d583",
   "metadata": {},
   "outputs": [],
   "source": [
    "# Create a confusion matrix\n",
    "cm = confusion_matrix(y_te, y_pred)\n",
    "\n",
    "# Set the figure size\n",
    "fig, ax = plt.subplots(figsize=(16, 16))\n",
    "\n",
    "# Plot the confusion matrix as a heatmap\n",
    "sns.heatmap(cm, annot=True, fmt='d', cmap='YlGnBu', ax=ax)\n",
    "\n",
    "# Add labels and a title\n",
    "ax.set_xlabel('Predicted')\n",
    "ax.set_ylabel('True')\n",
    "ax.set_title('Confusion Matrix')\n",
    "\n",
    "# Show the plot\n",
    "plt.show()"
   ]
  },
  {
   "attachments": {},
   "cell_type": "markdown",
   "id": "e3f49a82",
   "metadata": {},
   "source": [
    "\n",
    "\n",
    "# <p style=\"padding:10px;background-color:#AEE2FF;margin:0;color:#213555;font-family:newtimeroman;font-size:90%;text-align:center;border-radius: 50px 60px;overflow:hidden;font-weight:500\">Hyperparameter Tuning</p>\n"
   ]
  },
  {
   "attachments": {},
   "cell_type": "markdown",
   "id": "b972a36a",
   "metadata": {},
   "source": [
    "\n",
    "# <p style=\"padding:10px;background-color:#F5F3C1;margin:0;color:#213555;font-family:newtimeroman;font-size:80%;text-align:center;border-radius: 50px 60px;overflow:hidden;font-weight:500\">Grid Search</p>\n"
   ]
  },
  {
   "cell_type": "code",
   "execution_count": null,
   "id": "8830264f",
   "metadata": {},
   "outputs": [],
   "source": [
    "param_grid = {\n",
    "    'n_estimators': [100, 200, 300],\n",
    "    'max_depth': [None, 10, 20, 30],\n",
    "    'min_samples_split': [2, 5, 10],\n",
    "    'min_samples_leaf': [1, 2, 4],\n",
    "    'max_features': ['auto', 'sqrt', 'log2']\n",
    "}\n",
    "\n",
    "grid_search = GridSearchCV(estimator=rf, param_grid=param_grid, cv=5, n_jobs=-1)\n",
    "\n",
    "grid_search.fit(x_tr, y_tr)\n",
    "\n",
    "best_params = grid_search.best_params_\n",
    "best_model = grid_search.best_estimator_"
   ]
  },
  {
   "cell_type": "code",
   "execution_count": null,
   "id": "3610a226",
   "metadata": {},
   "outputs": [],
   "source": [
    "best_params "
   ]
  },
  {
   "attachments": {},
   "cell_type": "markdown",
   "id": "74a24d8b",
   "metadata": {},
   "source": [
    "# <p style=\"padding:10px;background-color:#F5F3C1;margin:0;color:#213555;font-family:newtimeroman;font-size:80%;text-align:center;border-radius: 50px 60px;overflow:hidden;font-weight:500\">Accuracy, Precision, Recall, F1 Score</p>\n"
   ]
  },
  {
   "cell_type": "code",
   "execution_count": null,
   "id": "be81ea24",
   "metadata": {},
   "outputs": [],
   "source": [
    "# predict on new data\n",
    "y_rf=best_model.predict(x_te)"
   ]
  },
  {
   "cell_type": "code",
   "execution_count": null,
   "id": "4239404f",
   "metadata": {},
   "outputs": [],
   "source": [
    "# Performance evaluation\n",
    "accuracy = accuracy_score(y_te, y_rf)*100\n",
    "precision = precision_score(y_te, y_rf, average='weighted')*100\n",
    "recall = recall_score(y_te, y_rf, average='weighted')*100\n",
    "f1 = f1_score(y_te, y_rf, average='weighted')*100"
   ]
  },
  {
   "cell_type": "code",
   "execution_count": null,
   "id": "83ae5724",
   "metadata": {},
   "outputs": [],
   "source": [
    "# Print the evaluation metrics\n",
    "print(\"Accuracy  : {:.4f}%\".format(accuracy))\n",
    "print(\"Precision : {:.4f}%\".format(precision))\n",
    "print(\"Recall    : {:.4f}%\".format(recall))\n",
    "print(\"F1 Score  : {:.4f}%\".format(f1))"
   ]
  },
  {
   "attachments": {},
   "cell_type": "markdown",
   "id": "560b8a26",
   "metadata": {},
   "source": [
    "\n",
    "\n",
    "# <p style=\"padding:10px;background-color:#F5F3C1;margin:0;color:#213555;font-family:newtimeroman;font-size:80%;text-align:center;border-radius: 50px 60px;overflow:hidden;font-weight:500\">Classification Report</p>\n"
   ]
  },
  {
   "cell_type": "code",
   "execution_count": null,
   "id": "9ce985cb",
   "metadata": {},
   "outputs": [],
   "source": [
    "# Generate predictions from the model\n",
    "y_pred = best_model.predict(x_te)\n",
    "\n",
    "print(classification_report(y_te,y_pred))"
   ]
  },
  {
   "attachments": {},
   "cell_type": "markdown",
   "id": "0e38e048",
   "metadata": {},
   "source": [
    "# <p style=\"padding:10px;background-color:#F5F3C1;margin:0;color:#213555;font-family:newtimeroman;font-size:80%;text-align:center;border-radius: 50px 60px;overflow:hidden;font-weight:500\">Confusion Matrix</p>\n"
   ]
  },
  {
   "cell_type": "code",
   "execution_count": null,
   "id": "de1f0e44",
   "metadata": {},
   "outputs": [],
   "source": [
    "# Create a confusion matrix\n",
    "cm = confusion_matrix(y_te, y_pred)\n",
    "\n",
    "# Set the figure size\n",
    "fig, ax = plt.subplots(figsize=(16, 16))\n",
    "\n",
    "# Plot the confusion matrix as a heatmap\n",
    "sns.heatmap(cm, annot=True, fmt='d', cmap='YlGnBu', ax=ax)\n",
    "\n",
    "# Add labels and a title\n",
    "ax.set_xlabel('Predicted')\n",
    "ax.set_ylabel('True')\n",
    "ax.set_title('Confusion Matrix')\n",
    "\n",
    "# Show the plot\n",
    "plt.show()"
   ]
  },
  {
   "attachments": {},
   "cell_type": "markdown",
   "id": "2c0bc8d9",
   "metadata": {},
   "source": [
    "# <p style=\"padding:10px;background-color:#DFCCFB;margin:0;color:#213555;font-family:newtimeroman;font-size:100%;text-align:center;border-radius: 50px 60px;overflow:hidden;font-weight:500\">Deployment</p>"
   ]
  },
  {
   "cell_type": "code",
   "execution_count": 8,
   "id": "6b62bec9",
   "metadata": {},
   "outputs": [],
   "source": [
    "# png"
   ]
  },
  {
   "cell_type": "code",
   "execution_count": 6,
   "id": "7653ee56",
   "metadata": {},
   "outputs": [
    {
     "ename": "TypeError",
     "evalue": "'numpy._DTypeMeta' object is not subscriptable",
     "output_type": "error",
     "traceback": [
      "\u001b[1;31m---------------------------------------------------------------------------\u001b[0m",
      "\u001b[1;31mTypeError\u001b[0m                                 Traceback (most recent call last)",
      "\u001b[1;32m~\\AppData\\Local\\Temp\\ipykernel_14216\\20055281.py\u001b[0m in \u001b[0;36m<module>\u001b[1;34m\u001b[0m\n\u001b[1;32m----> 1\u001b[1;33m \u001b[1;32mimport\u001b[0m \u001b[0mcv2\u001b[0m\u001b[1;33m\u001b[0m\u001b[1;33m\u001b[0m\u001b[0m\n\u001b[0m\u001b[0;32m      2\u001b[0m \u001b[1;32mimport\u001b[0m \u001b[0mnumpy\u001b[0m \u001b[1;32mas\u001b[0m \u001b[0mnp\u001b[0m\u001b[1;33m\u001b[0m\u001b[1;33m\u001b[0m\u001b[0m\n\u001b[0;32m      3\u001b[0m \u001b[1;33m\u001b[0m\u001b[0m\n\u001b[0;32m      4\u001b[0m \u001b[1;31m# Define a NumPy data type\u001b[0m\u001b[1;33m\u001b[0m\u001b[1;33m\u001b[0m\u001b[0m\n\u001b[0;32m      5\u001b[0m \u001b[0mdtype\u001b[0m \u001b[1;33m=\u001b[0m \u001b[0mnp\u001b[0m\u001b[1;33m.\u001b[0m\u001b[0mint32\u001b[0m\u001b[1;33m\u001b[0m\u001b[1;33m\u001b[0m\u001b[0m\n",
      "\u001b[1;32mc:\\Users\\TARUMT\\anaconda3\\lib\\site-packages\\cv2\\__init__.py\u001b[0m in \u001b[0;36m<module>\u001b[1;34m\u001b[0m\n\u001b[0;32m    179\u001b[0m \u001b[1;33m\u001b[0m\u001b[0m\n\u001b[0;32m    180\u001b[0m \u001b[1;33m\u001b[0m\u001b[0m\n\u001b[1;32m--> 181\u001b[1;33m \u001b[0mbootstrap\u001b[0m\u001b[1;33m(\u001b[0m\u001b[1;33m)\u001b[0m\u001b[1;33m\u001b[0m\u001b[1;33m\u001b[0m\u001b[0m\n\u001b[0m",
      "\u001b[1;32mc:\\Users\\TARUMT\\anaconda3\\lib\\site-packages\\cv2\\__init__.py\u001b[0m in \u001b[0;36mbootstrap\u001b[1;34m()\u001b[0m\n\u001b[0;32m    173\u001b[0m \u001b[1;33m\u001b[0m\u001b[0m\n\u001b[0;32m    174\u001b[0m     \u001b[1;32mfor\u001b[0m \u001b[0msubmodule\u001b[0m \u001b[1;32min\u001b[0m \u001b[0m__collect_extra_submodules\u001b[0m\u001b[1;33m(\u001b[0m\u001b[0mDEBUG\u001b[0m\u001b[1;33m)\u001b[0m\u001b[1;33m:\u001b[0m\u001b[1;33m\u001b[0m\u001b[1;33m\u001b[0m\u001b[0m\n\u001b[1;32m--> 175\u001b[1;33m         \u001b[1;32mif\u001b[0m \u001b[0m__load_extra_py_code_for_module\u001b[0m\u001b[1;33m(\u001b[0m\u001b[1;34m\"cv2\"\u001b[0m\u001b[1;33m,\u001b[0m \u001b[0msubmodule\u001b[0m\u001b[1;33m,\u001b[0m \u001b[0mDEBUG\u001b[0m\u001b[1;33m)\u001b[0m\u001b[1;33m:\u001b[0m\u001b[1;33m\u001b[0m\u001b[1;33m\u001b[0m\u001b[0m\n\u001b[0m\u001b[0;32m    176\u001b[0m             \u001b[1;32mif\u001b[0m \u001b[0mDEBUG\u001b[0m\u001b[1;33m:\u001b[0m \u001b[0mprint\u001b[0m\u001b[1;33m(\u001b[0m\u001b[1;34m\"Extra Python code for\"\u001b[0m\u001b[1;33m,\u001b[0m \u001b[0msubmodule\u001b[0m\u001b[1;33m,\u001b[0m \u001b[1;34m\"is loaded\"\u001b[0m\u001b[1;33m)\u001b[0m\u001b[1;33m\u001b[0m\u001b[1;33m\u001b[0m\u001b[0m\n\u001b[0;32m    177\u001b[0m \u001b[1;33m\u001b[0m\u001b[0m\n",
      "\u001b[1;32mc:\\Users\\TARUMT\\anaconda3\\lib\\site-packages\\cv2\\__init__.py\u001b[0m in \u001b[0;36m__load_extra_py_code_for_module\u001b[1;34m(base, name, enable_debug_print)\u001b[0m\n\u001b[0;32m     26\u001b[0m     \u001b[0mnative_module\u001b[0m \u001b[1;33m=\u001b[0m \u001b[0msys\u001b[0m\u001b[1;33m.\u001b[0m\u001b[0mmodules\u001b[0m\u001b[1;33m.\u001b[0m\u001b[0mpop\u001b[0m\u001b[1;33m(\u001b[0m\u001b[0mmodule_name\u001b[0m\u001b[1;33m,\u001b[0m \u001b[1;32mNone\u001b[0m\u001b[1;33m)\u001b[0m\u001b[1;33m\u001b[0m\u001b[1;33m\u001b[0m\u001b[0m\n\u001b[0;32m     27\u001b[0m     \u001b[1;32mtry\u001b[0m\u001b[1;33m:\u001b[0m\u001b[1;33m\u001b[0m\u001b[1;33m\u001b[0m\u001b[0m\n\u001b[1;32m---> 28\u001b[1;33m         \u001b[0mpy_module\u001b[0m \u001b[1;33m=\u001b[0m \u001b[0mimportlib\u001b[0m\u001b[1;33m.\u001b[0m\u001b[0mimport_module\u001b[0m\u001b[1;33m(\u001b[0m\u001b[0mmodule_name\u001b[0m\u001b[1;33m)\u001b[0m\u001b[1;33m\u001b[0m\u001b[1;33m\u001b[0m\u001b[0m\n\u001b[0m\u001b[0;32m     29\u001b[0m     \u001b[1;32mexcept\u001b[0m \u001b[0mImportError\u001b[0m \u001b[1;32mas\u001b[0m \u001b[0merr\u001b[0m\u001b[1;33m:\u001b[0m\u001b[1;33m\u001b[0m\u001b[1;33m\u001b[0m\u001b[0m\n\u001b[0;32m     30\u001b[0m         \u001b[1;32mif\u001b[0m \u001b[0menable_debug_print\u001b[0m\u001b[1;33m:\u001b[0m\u001b[1;33m\u001b[0m\u001b[1;33m\u001b[0m\u001b[0m\n",
      "\u001b[1;32mc:\\Users\\TARUMT\\anaconda3\\lib\\importlib\\__init__.py\u001b[0m in \u001b[0;36mimport_module\u001b[1;34m(name, package)\u001b[0m\n\u001b[0;32m    125\u001b[0m                 \u001b[1;32mbreak\u001b[0m\u001b[1;33m\u001b[0m\u001b[1;33m\u001b[0m\u001b[0m\n\u001b[0;32m    126\u001b[0m             \u001b[0mlevel\u001b[0m \u001b[1;33m+=\u001b[0m \u001b[1;36m1\u001b[0m\u001b[1;33m\u001b[0m\u001b[1;33m\u001b[0m\u001b[0m\n\u001b[1;32m--> 127\u001b[1;33m     \u001b[1;32mreturn\u001b[0m \u001b[0m_bootstrap\u001b[0m\u001b[1;33m.\u001b[0m\u001b[0m_gcd_import\u001b[0m\u001b[1;33m(\u001b[0m\u001b[0mname\u001b[0m\u001b[1;33m[\u001b[0m\u001b[0mlevel\u001b[0m\u001b[1;33m:\u001b[0m\u001b[1;33m]\u001b[0m\u001b[1;33m,\u001b[0m \u001b[0mpackage\u001b[0m\u001b[1;33m,\u001b[0m \u001b[0mlevel\u001b[0m\u001b[1;33m)\u001b[0m\u001b[1;33m\u001b[0m\u001b[1;33m\u001b[0m\u001b[0m\n\u001b[0m\u001b[0;32m    128\u001b[0m \u001b[1;33m\u001b[0m\u001b[0m\n\u001b[0;32m    129\u001b[0m \u001b[1;33m\u001b[0m\u001b[0m\n",
      "\u001b[1;32mc:\\Users\\TARUMT\\anaconda3\\lib\\site-packages\\cv2\\typing\\__init__.py\u001b[0m in \u001b[0;36m<module>\u001b[1;34m\u001b[0m\n\u001b[0;32m     67\u001b[0m \u001b[1;33m\u001b[0m\u001b[0m\n\u001b[0;32m     68\u001b[0m \u001b[1;32mif\u001b[0m \u001b[0mnumpy\u001b[0m\u001b[1;33m.\u001b[0m\u001b[0mlib\u001b[0m\u001b[1;33m.\u001b[0m\u001b[0mNumpyVersion\u001b[0m\u001b[1;33m(\u001b[0m\u001b[0mnumpy\u001b[0m\u001b[1;33m.\u001b[0m\u001b[0m__version__\u001b[0m\u001b[1;33m)\u001b[0m \u001b[1;33m>\u001b[0m \u001b[1;34m\"1.20.0\"\u001b[0m \u001b[1;32mand\u001b[0m \u001b[0msys\u001b[0m\u001b[1;33m.\u001b[0m\u001b[0mversion_info\u001b[0m \u001b[1;33m>=\u001b[0m \u001b[1;33m(\u001b[0m\u001b[1;36m3\u001b[0m\u001b[1;33m,\u001b[0m \u001b[1;36m9\u001b[0m\u001b[1;33m)\u001b[0m\u001b[1;33m:\u001b[0m\u001b[1;33m\u001b[0m\u001b[1;33m\u001b[0m\u001b[0m\n\u001b[1;32m---> 69\u001b[1;33m     \u001b[0mNumPyArrayGeneric\u001b[0m \u001b[1;33m=\u001b[0m \u001b[0mnumpy\u001b[0m\u001b[1;33m.\u001b[0m\u001b[0mndarray\u001b[0m\u001b[1;33m[\u001b[0m\u001b[0mtyping\u001b[0m\u001b[1;33m.\u001b[0m\u001b[0mAny\u001b[0m\u001b[1;33m,\u001b[0m \u001b[0mnumpy\u001b[0m\u001b[1;33m.\u001b[0m\u001b[0mdtype\u001b[0m\u001b[1;33m[\u001b[0m\u001b[0mnumpy\u001b[0m\u001b[1;33m.\u001b[0m\u001b[0mgeneric\u001b[0m\u001b[1;33m]\u001b[0m\u001b[1;33m]\u001b[0m\u001b[1;33m\u001b[0m\u001b[1;33m\u001b[0m\u001b[0m\n\u001b[0m\u001b[0;32m     70\u001b[0m \u001b[1;32melse\u001b[0m\u001b[1;33m:\u001b[0m\u001b[1;33m\u001b[0m\u001b[1;33m\u001b[0m\u001b[0m\n\u001b[0;32m     71\u001b[0m     \u001b[0mNumPyArrayGeneric\u001b[0m \u001b[1;33m=\u001b[0m \u001b[0mnumpy\u001b[0m\u001b[1;33m.\u001b[0m\u001b[0mndarray\u001b[0m\u001b[1;33m\u001b[0m\u001b[1;33m\u001b[0m\u001b[0m\n",
      "\u001b[1;31mTypeError\u001b[0m: 'numpy._DTypeMeta' object is not subscriptable"
     ]
    }
   ],
   "source": [
    "\n",
    "image = cv2.imread(\"digit.png\") \n",
    "\n",
    "print(type(image))"
   ]
  },
  {
   "cell_type": "code",
   "execution_count": null,
   "id": "60f839d1",
   "metadata": {},
   "outputs": [],
   "source": [
    "plt.imshow(image)\n",
    "plt.show()\n"
   ]
  },
  {
   "cell_type": "code",
   "execution_count": 1,
   "id": "7ca8703b",
   "metadata": {},
   "outputs": [],
   "source": [
    "# pdf"
   ]
  },
  {
   "cell_type": "code",
   "execution_count": 7,
   "id": "529517f3",
   "metadata": {},
   "outputs": [
    {
     "ename": "ModuleNotFoundError",
     "evalue": "No module named 'fitz'",
     "output_type": "error",
     "traceback": [
      "\u001b[1;31m---------------------------------------------------------------------------\u001b[0m",
      "\u001b[1;31mModuleNotFoundError\u001b[0m                       Traceback (most recent call last)",
      "\u001b[1;32m~\\AppData\\Local\\Temp\\ipykernel_14216\\1021318604.py\u001b[0m in \u001b[0;36m<module>\u001b[1;34m\u001b[0m\n\u001b[1;32m----> 1\u001b[1;33m \u001b[1;32mimport\u001b[0m \u001b[0mfitz\u001b[0m  \u001b[1;31m# PyMuPDF\u001b[0m\u001b[1;33m\u001b[0m\u001b[1;33m\u001b[0m\u001b[0m\n\u001b[0m\u001b[0;32m      2\u001b[0m \u001b[1;32mimport\u001b[0m \u001b[0mmatplotlib\u001b[0m\u001b[1;33m.\u001b[0m\u001b[0mpyplot\u001b[0m \u001b[1;32mas\u001b[0m \u001b[0mplt\u001b[0m\u001b[1;33m\u001b[0m\u001b[1;33m\u001b[0m\u001b[0m\n\u001b[0;32m      3\u001b[0m \u001b[1;33m\u001b[0m\u001b[0m\n\u001b[0;32m      4\u001b[0m \u001b[1;31m# Replace 'your_pdf_file.pdf' with the path to your PDF file\u001b[0m\u001b[1;33m\u001b[0m\u001b[1;33m\u001b[0m\u001b[0m\n\u001b[0;32m      5\u001b[0m \u001b[0mpdf_file\u001b[0m \u001b[1;33m=\u001b[0m \u001b[1;34m\"digitpdf.pdf\"\u001b[0m\u001b[1;33m\u001b[0m\u001b[1;33m\u001b[0m\u001b[0m\n",
      "\u001b[1;31mModuleNotFoundError\u001b[0m: No module named 'fitz'"
     ]
    }
   ],
   "source": [
    "\n",
    "# Replace 'your_pdf_file.pdf' with the path to your PDF file\n",
    "pdf_file = \"digitpdf.pdf\"\n",
    "\n",
    "# Open the PDF file\n",
    "pdf_document = fitz.open(pdf_file)\n",
    "\n",
    "# Choose the page number and image index you want to display\n",
    "page_number = 0  # Change this to the desired page number (0 for the first page)\n",
    "img_index = 0  # Change this index to select a different image if necessary\n",
    "\n",
    "# Get the page\n",
    "page = pdf_document[page_number]\n",
    "\n",
    "# Get a list of image references on the page\n",
    "image_list = page.get_images(full=True)\n",
    "\n",
    "# Select the image you want to display\n",
    "img_ref = image_list[img_index]\n",
    "\n",
    "# Extract the image data\n",
    "xref = img_ref[0]\n",
    "base_image = pdf_document.extract_image(xref)\n",
    "image_data = base_image[\"image\"]\n",
    "\n",
    "# Create a temporary image file to display it with matplotlib\n",
    "temp_image_filename = \"temp_image.png\"\n",
    "with open(temp_image_filename, \"wb\") as f:\n",
    "    f.write(image_data)\n",
    "\n",
    "# Display the temporary image using matplotlib\n",
    "image = plt.imread(temp_image_filename)\n",
    "plt.figure(figsize=(8, 6))  # Adjust the figure size as needed\n",
    "plt.imshow(image, cmap='gray')  # Assuming grayscale, change cmap as needed\n",
    "plt.axis('off')  # Turn off axis labels and ticks\n",
    "plt.show()\n",
    "\n",
    "# Close the PDF file\n",
    "pdf_document.close()\n"
   ]
  },
  {
   "cell_type": "code",
   "execution_count": null,
   "id": "685c56cb",
   "metadata": {},
   "outputs": [],
   "source": [
    "\n",
    "# Load the Word document\n",
    "doc = Document('digitword.docx')\n",
    "\n",
    "# Extract the first image (you may need to adjust this based on your document)\n",
    "image = doc.inline_shapes[0].image\n",
    "\n",
    "# Save the image to a file\n",
    "with open('extracted_image.png', 'wb') as img_file:\n",
    "    img_file.write(image.blob)\n",
    "\n",
    "# Read the extracted image\n",
    "image = cv2.imread('extracted_image.png')\n",
    "\n",
    "# Perform image processing operations here (e.g., resizing, filtering, etc.)\n",
    "\n",
    "# Save the processed image\n",
    "cv2.imwrite('processed_image.png', image)\n",
    "\n",
    "# Read the processed image\n",
    "processed_image = cv2.imread('processed_image.png')\n",
    "\n",
    "# Display the processed image\n",
    "plt.imshow(cv2.cvtColor(processed_image, cv2.COLOR_BGR2RGB))\n",
    "plt.axis('off')  # Turn off the axis labels\n",
    "plt.show()\n",
    "\n"
   ]
  }
 ],
 "metadata": {
  "kernelspec": {
   "display_name": "Python 3 (ipykernel)",
   "language": "python",
   "name": "python3"
  },
  "language_info": {
   "codemirror_mode": {
    "name": "ipython",
    "version": 3
   },
   "file_extension": ".py",
   "mimetype": "text/x-python",
   "name": "python",
   "nbconvert_exporter": "python",
   "pygments_lexer": "ipython3",
   "version": "3.9.13"
  },
  "vscode": {
   "interpreter": {
    "hash": "fea6dd9932537b91dffa77fea81469d8a800d8c034f646a51a7e54bb7dc9f8ea"
   }
  }
 },
 "nbformat": 4,
 "nbformat_minor": 5
}
